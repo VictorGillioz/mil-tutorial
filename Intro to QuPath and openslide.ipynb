{
 "cells": [
  {
   "cell_type": "markdown",
   "id": "4498a69b",
   "metadata": {},
   "source": [
    "## Slide visualization:\n",
    "\n",
    "This first hands-on session will guide you how to visualize and manipulate giga-pixel whole-slide images (WSIs).\n"
   ]
  },
  {
   "cell_type": "markdown",
   "id": "d6006497",
   "metadata": {},
   "source": [
    "### Qupath  \n",
    "\n",
    "We will be using QuPath, an open-source software that allows visualizing, annotating bounding boxes, and extracting information from WSIs.\n",
    "\n",
    "When building a computational pathology pipeline, you will typically need to:\n",
    "- Assess the image quality: ensure staining quality, images are not blurred, or have ink stains\n",
    "- Validate the quality of the annotations, either at slide-level or regions (boxes or dense pixel annotations)\n",
    "- understand the type of task/prior that needs to be considered when learning on your images, e.g.,\n",
    "   - if classifying different tumor subtypes, what is the percentage of the slide that occupies the tumor \n",
    "   - if detecting small objects, such as mitosis, what is the appropriate resolution\n",
    "- Validate the quality of the Deep Learning system on fined-grained annotations\n",
    "\n",
    "QuPath is the best tool for all these tasks! \n",
    "\n",
    "Instructions:\n",
    "\n",
    "- Download QuPath (https://qupath.readthedocs.io/en/0.4/docs/intro/installation.html#download-install)\n",
    "   - Support Windows, Mac and Ubuntu \n",
    "   - Requires 4GB of RAM (runs smoothly on most modern computers)\n",
    "\n",
    "- Download two WSIs \n",
    "    - link 1 \n",
    "    - link 2\n",
    "    "
   ]
  },
  {
   "cell_type": "code",
   "execution_count": null,
   "id": "d40c961e",
   "metadata": {
    "scrolled": true
   },
   "outputs": [],
   "source": [
    "# Download WSIs\n",
    "\n",
    "!wget --no-check-certificate 'https://docs.google.com/uc?export=download&id=13eYe3S4XS-N2fIezT5ythMKiK8q-0ZzF' -O necrosis.svs\n",
    "!wget --no-check-certificate 'https://docs.google.com/uc?export=download&id=1yttPsUodu3tukZlOgdLzyDRqf6Y68C04' -O brca.svs"
   ]
  },
  {
   "cell_type": "markdown",
   "id": "0b681fef",
   "metadata": {},
   "source": [
    "Using QuPath, play around with the two WSIs:\n",
    "- a necropsy of a rat liver with presence of a necrotic region\n",
    "- a TCGA sample of invasive breast cancer (BRCA) "
   ]
  },
  {
   "cell_type": "markdown",
   "id": "3fae11ed",
   "metadata": {},
   "source": [
    "### OpenSlide \n",
    "\n",
    "QuPath is helpful for a quick exploration of a new dataset, make small annotations etc, but it cannot be used in a robust deep learning pipeline. Instead, we can use OpenSlide, an open-source Python package that can open, read, and save WSIs (or typically a small region of the slide). \n",
    "\n",
    "OpenSlide is a very small package with a fairly small and neat API (see https://openslide.org/api/python/). It also supports most pyramidal formats, such as tiff, svs, ndpi, mrxs, etc. These formats tyically depends on the scanner used to digitize the slides. "
   ]
  },
  {
   "cell_type": "code",
   "execution_count": null,
   "id": "4950c772",
   "metadata": {},
   "outputs": [],
   "source": [
    "# Install openslide \n",
    "!pip install openslide-python"
   ]
  },
  {
   "cell_type": "code",
   "execution_count": null,
   "id": "a4280a67",
   "metadata": {},
   "outputs": [],
   "source": [
    "import openslide \n",
    "\n"
   ]
  }
 ],
 "metadata": {
  "kernelspec": {
   "display_name": "Python 3 (ipykernel)",
   "language": "python",
   "name": "python3"
  },
  "language_info": {
   "codemirror_mode": {
    "name": "ipython",
    "version": 3
   },
   "file_extension": ".py",
   "mimetype": "text/x-python",
   "name": "python",
   "nbconvert_exporter": "python",
   "pygments_lexer": "ipython3",
   "version": "3.9.12"
  }
 },
 "nbformat": 4,
 "nbformat_minor": 5
}
